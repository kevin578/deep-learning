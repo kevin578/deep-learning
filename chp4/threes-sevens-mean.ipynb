{
 "cells": [
  {
   "cell_type": "code",
   "execution_count": null,
   "id": "1e22514f",
   "metadata": {
    "_cell_guid": "b1076dfc-b9ad-4769-8c92-a6c4dae69d19",
    "_uuid": "8f2839f25d086af736a60e9eeb907d3b93b6e0e5",
    "lines_to_next_cell": 2
   },
   "outputs": [],
   "source": [
    "import numpy as np # linear algebra\n",
    "import pandas as pd # data processing, CSV file I/O (e.g. pd.read_csv)\n",
    "import torch"
   ]
  },
  {
   "cell_type": "code",
   "execution_count": null,
   "id": "da58f70e",
   "metadata": {},
   "outputs": [],
   "source": [
    "import keras\n",
    "print(keras.__version__)\n",
    "keras.datasets.mnist.load_data(path=\"mnist.npz\")\n",
    "\n",
    "(x_train, y_train), (x_test, y_test) = keras.datasets.mnist.load_data()\n",
    "\n",
    "def filter_digits(images, labels, digits):\n",
    "    mask = np.isin(labels, digits)\n",
    "    return images[mask], labels[mask]\n",
    "\n",
    "images_train_3, labels_train_3 = filter_digits(x_train, y_train, [3])\n",
    "images_train_7, labels_train_7 = filter_digits(x_train, y_train, [7])\n",
    "images_test_3, labels_test_3 = filter_digits(x_test, y_test, [3])\n",
    "images_test_7, labels_test_7 = filter_digits(x_test, y_test, [7])"
   ]
  },
  {
   "cell_type": "code",
   "execution_count": null,
   "id": "1de5561b",
   "metadata": {},
   "outputs": [],
   "source": [
    "images_3_tensor = torch.from_numpy(images_train_3).float()/255\n",
    "images_7_tensor = torch.from_numpy(images_train_7).float()/255\n",
    "mean_3 = images_3_tensor.mean(0)\n",
    "mean_7 = images_7_tensor.mean(0)\n",
    "\n",
    "print(mean_3)\n",
    "\n"
   ]
  }
 ],
 "metadata": {
  "kernelspec": {
   "display_name": "Python 3",
   "language": "python",
   "name": "python3"
  }
 },
 "nbformat": 4,
 "nbformat_minor": 5
}
